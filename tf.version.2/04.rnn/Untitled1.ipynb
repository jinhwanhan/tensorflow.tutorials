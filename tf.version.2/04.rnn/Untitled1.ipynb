{
 "cells": [
  {
   "cell_type": "code",
   "execution_count": 1,
   "metadata": {},
   "outputs": [
    {
     "name": "stderr",
     "output_type": "stream",
     "text": [
      "/home/multi/anaconda3/lib/python3.6/site-packages/h5py/__init__.py:36: FutureWarning: Conversion of the second argument of issubdtype from `float` to `np.floating` is deprecated. In future, it will be treated as `np.float64 == np.dtype(float).type`.\n",
      "  from ._conv import register_converters as _register_converters\n"
     ]
    }
   ],
   "source": [
    "from __future__ import absolute_import\n",
    "from __future__ import division\n",
    "from __future__ import print_function\n",
    "\n",
    "import os\n",
    "import time\n",
    "\n",
    "import numpy as np\n",
    "import matplotlib.pyplot as plt\n",
    "%matplotlib inline\n",
    "from IPython.display import clear_output\n",
    "\n",
    "import tensorflow as tf\n",
    "from tensorflow.keras import layers\n",
    "tf.enable_eager_execution()\n",
    "\n",
    "os.environ[\"CUDA_VISIBLE_DEVICES\"]=\"0\""
   ]
  },
  {
   "cell_type": "code",
   "execution_count": 26,
   "metadata": {},
   "outputs": [],
   "source": [
    "class InceptionModule(tf.keras.Model):\n",
    "    def __init__(self, filters):\n",
    "        super(InceptionModule, self).__init__()\n",
    "        self.conv1x1 = layers.Conv2D(filters=filters, kernel_size=(1,1),\n",
    "                                     padding='same', activation='relu')\n",
    "        self.conv3x3 = layers.Conv2D(filters=filters, kernel_size=(3,3),\n",
    "                                     padding='same', activation='relu')\n",
    "        self.conv5x5 = layers.Conv2D(filters=filters, kernel_size=(5,5),\n",
    "                                     padding='same', activation='relu')\n",
    "        self.pool3x3 = layers.MaxPool2D(pool_size=(3,3), strides=(1,1),\n",
    "                                        padding='same')\n",
    "        \n",
    "    def call(self, inputs):\n",
    "        block1 = self.conv1x1(inputs)\n",
    "        block2 = self.conv3x3(inputs)\n",
    "        block3 = self.conv5x5(inputs)\n",
    "        block4 = self.pool3x3(inputs)\n",
    "        \n",
    "        concat = tf.concat(values=[block1, block2, block3, block4], axis=3)\n",
    "        \n",
    "        return concat\n",
    "    "
   ]
  },
  {
   "cell_type": "code",
   "execution_count": 27,
   "metadata": {},
   "outputs": [],
   "source": [
    "inception_module = InceptionModule(32)\n",
    "#inception_module(tf.random.normal((2, 28, 28, 32)))"
   ]
  },
  {
   "cell_type": "code",
   "execution_count": 28,
   "metadata": {},
   "outputs": [],
   "source": [
    "model = tf.keras.models.Sequential()\n",
    "model.add(InceptionModule(32))\n",
    "model.add(InceptionModule(64))\n",
    "model.add(InceptionModule(32))"
   ]
  },
  {
   "cell_type": "code",
   "execution_count": 29,
   "metadata": {},
   "outputs": [],
   "source": [
    "output = model(tf.random.normal([2, 224, 224, 3]))"
   ]
  },
  {
   "cell_type": "code",
   "execution_count": 30,
   "metadata": {},
   "outputs": [
    {
     "name": "stdout",
     "output_type": "stream",
     "text": [
      "_________________________________________________________________\n",
      "Layer (type)                 Output Shape              Param #   \n",
      "=================================================================\n",
      "inception_module_19 (Incepti multiple                  3456      \n",
      "_________________________________________________________________\n",
      "inception_module_20 (Incepti multiple                  221952    \n",
      "_________________________________________________________________\n",
      "inception_module_21 (Incepti multiple                  326016    \n",
      "=================================================================\n",
      "Total params: 551,424\n",
      "Trainable params: 551,424\n",
      "Non-trainable params: 0\n",
      "_________________________________________________________________\n"
     ]
    }
   ],
   "source": [
    "model.summary()"
   ]
  },
  {
   "cell_type": "code",
   "execution_count": null,
   "metadata": {},
   "outputs": [],
   "source": []
  }
 ],
 "metadata": {
  "kernelspec": {
   "display_name": "Python 3",
   "language": "python",
   "name": "python3"
  },
  "language_info": {
   "codemirror_mode": {
    "name": "ipython",
    "version": 3
   },
   "file_extension": ".py",
   "mimetype": "text/x-python",
   "name": "python",
   "nbconvert_exporter": "python",
   "pygments_lexer": "ipython3",
   "version": "3.6.5"
  }
 },
 "nbformat": 4,
 "nbformat_minor": 2
}
