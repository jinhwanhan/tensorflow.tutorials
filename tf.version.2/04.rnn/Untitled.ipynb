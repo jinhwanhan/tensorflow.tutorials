{
 "cells": [
  {
   "cell_type": "code",
   "execution_count": 4,
   "metadata": {},
   "outputs": [],
   "source": [
    "import tensorflow as tf"
   ]
  },
  {
   "cell_type": "code",
   "execution_count": 6,
   "metadata": {},
   "outputs": [],
   "source": [
    "tf.enable_eager_execution()\n",
    "\n",
    "layers = tf.keras.layers"
   ]
  },
  {
   "cell_type": "code",
   "execution_count": 32,
   "metadata": {},
   "outputs": [],
   "source": [
    "model = tf.keras.models.Sequential()\n",
    "\n",
    "#model.add(layers.SimpleRNN(units=4, return_sequences=True))\n",
    "# model.add(layers.LSTM(units=4))\n",
    "model.add(layers.CuDNNLSTM(units=4, return_sequences=True))\n",
    "# model.add(layers.GRU(units=4))\n",
    "# model.add(layers.CuDNNGRU(units=4))"
   ]
  },
  {
   "cell_type": "code",
   "execution_count": 33,
   "metadata": {},
   "outputs": [],
   "source": [
    "# RNN Input Shape : (batch size, sequence length, x dimension)\n",
    "# ==> one data - 2d data\n",
    "\n",
    "output = model(tf.random.normal((2, 5, 3)))"
   ]
  },
  {
   "cell_type": "code",
   "execution_count": 34,
   "metadata": {},
   "outputs": [
    {
     "data": {
      "text/plain": [
       "TensorShape([Dimension(2), Dimension(5), Dimension(4)])"
      ]
     },
     "execution_count": 34,
     "metadata": {},
     "output_type": "execute_result"
    }
   ],
   "source": [
    "output.shape"
   ]
  },
  {
   "cell_type": "code",
   "execution_count": 35,
   "metadata": {},
   "outputs": [
    {
     "data": {
      "text/plain": [
       "<tf.Tensor: id=1207, shape=(2, 5, 4), dtype=float32, numpy=\n",
       "array([[[-0.10631461, -0.18458746, -0.01191079, -0.21338935],\n",
       "        [-0.02474577,  0.0761888 , -0.04410804,  0.03829056],\n",
       "        [ 0.0961528 ,  0.08193895,  0.2661448 , -0.0484819 ],\n",
       "        [ 0.19456485, -0.04440301,  0.20027986, -0.23574202],\n",
       "        [ 0.17049572, -0.10502782,  0.24212003, -0.24219337]],\n",
       "\n",
       "       [[ 0.01007738,  0.05877379,  0.00503929,  0.01114745],\n",
       "        [-0.09071422, -0.09635181, -0.0195413 , -0.1379205 ],\n",
       "        [ 0.01905754, -0.10267349,  0.05779816, -0.23811543],\n",
       "        [-0.03105533,  0.04682366,  0.00402361, -0.023651  ],\n",
       "        [ 0.21304198, -0.06099404,  0.26607686, -0.11444013]]],\n",
       "      dtype=float32)>"
      ]
     },
     "execution_count": 35,
     "metadata": {},
     "output_type": "execute_result"
    }
   ],
   "source": [
    "output"
   ]
  },
  {
   "cell_type": "code",
   "execution_count": null,
   "metadata": {},
   "outputs": [],
   "source": []
  }
 ],
 "metadata": {
  "kernelspec": {
   "display_name": "Python 3",
   "language": "python",
   "name": "python3"
  },
  "language_info": {
   "codemirror_mode": {
    "name": "ipython",
    "version": 3
   },
   "file_extension": ".py",
   "mimetype": "text/x-python",
   "name": "python",
   "nbconvert_exporter": "python",
   "pygments_lexer": "ipython3",
   "version": "3.6.5"
  }
 },
 "nbformat": 4,
 "nbformat_minor": 2
}
