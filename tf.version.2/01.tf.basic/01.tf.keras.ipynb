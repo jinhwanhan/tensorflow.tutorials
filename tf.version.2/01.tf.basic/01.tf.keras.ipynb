{
 "cells": [
  {
   "cell_type": "markdown",
   "metadata": {},
   "source": [
    "# Usages of `tf.keras`"
   ]
  },
  {
   "cell_type": "code",
   "execution_count": 1,
   "metadata": {},
   "outputs": [
    {
     "name": "stderr",
     "output_type": "stream",
     "text": [
      "/home/multi/anaconda3/lib/python3.6/site-packages/h5py/__init__.py:36: FutureWarning: Conversion of the second argument of issubdtype from `float` to `np.floating` is deprecated. In future, it will be treated as `np.float64 == np.dtype(float).type`.\n",
      "  from ._conv import register_converters as _register_converters\n"
     ]
    },
    {
     "name": "stdout",
     "output_type": "stream",
     "text": [
      "1.12.0\n",
      "2.1.6-tf\n"
     ]
    }
   ],
   "source": [
    "from __future__ import absolute_import\n",
    "from __future__ import division\n",
    "from __future__ import print_function\n",
    "\n",
    "import numpy as np\n",
    "\n",
    "import tensorflow as tf\n",
    "from tensorflow.keras import layers\n",
    "\n",
    "tf.enable_eager_execution()\n",
    "\n",
    "print(tf.VERSION)\n",
    "print(tf.keras.__version__)"
   ]
  },
  {
   "cell_type": "markdown",
   "metadata": {},
   "source": [
    "## Build a simple model\n",
    "\n",
    "### Sequential model\n",
    "* Two types of the sequential model\n",
    "\n",
    "#### Type I"
   ]
  },
  {
   "cell_type": "code",
   "execution_count": 2,
   "metadata": {},
   "outputs": [],
   "source": [
    "model1 = tf.keras.Sequential()\n",
    "# Adds a densely-connected layer with 64 units to the model:\n",
    "model1.add(layers.Dense(64, activation='relu'))\n",
    "# Add another:\n",
    "model1.add(layers.Dense(64, activation='relu'))\n",
    "# Add a softmax layer with 10 output units:\n",
    "model1.add(layers.Dense(10, activation='softmax'))"
   ]
  },
  {
   "cell_type": "markdown",
   "metadata": {},
   "source": [
    "#### Type II"
   ]
  },
  {
   "cell_type": "code",
   "execution_count": 3,
   "metadata": {},
   "outputs": [],
   "source": [
    "model2 = tf.keras.Sequential([\n",
    "# Adds a densely-connected layer with 64 units to the model:\n",
    "layers.Dense(64, activation='relu'),\n",
    "# Add another:\n",
    "layers.Dense(64, activation='relu'),\n",
    "# Add a softmax layer with 10 output units:\n",
    "layers.Dense(10, activation='softmax')])"
   ]
  },
  {
   "cell_type": "code",
   "execution_count": 4,
   "metadata": {},
   "outputs": [],
   "source": [
    "model = model2"
   ]
  },
  {
   "cell_type": "code",
   "execution_count": 5,
   "metadata": {},
   "outputs": [],
   "source": [
    "model.compile(optimizer=tf.train.AdamOptimizer(0.001),\n",
    "              loss='categorical_crossentropy',\n",
    "              metrics=['accuracy'])"
   ]
  },
  {
   "cell_type": "markdown",
   "metadata": {},
   "source": [
    "#### Two types in `tf.keras.Model.compile`\n",
    "\n",
    "type I\n",
    "```python\n",
    "model.compile(optimizer=tf.train.AdamOptimizer(0.001),\n",
    "              loss='categorical_crossentropy',\n",
    "              metrics=['accuracy'])```\n",
    "              \n",
    "type II\n",
    "```python\n",
    "model.compile(optimizer=tf.train.AdamOptimizer(0.001),\n",
    "              loss=tf.keras.losses.categorical_crossentropy,\n",
    "              metrics=[tf.keras.metrics.categorical_accuracy])```"
   ]
  },
  {
   "cell_type": "markdown",
   "metadata": {},
   "source": [
    "## Input\n",
    "\n",
    "### Input using numpy data"
   ]
  },
  {
   "cell_type": "code",
   "execution_count": 11,
   "metadata": {},
   "outputs": [],
   "source": [
    "data = np.random.random((1000, 32))\n",
    "labels = np.random.random((1000, 10))"
   ]
  },
  {
   "cell_type": "code",
   "execution_count": 12,
   "metadata": {},
   "outputs": [
    {
     "name": "stdout",
     "output_type": "stream",
     "text": [
      "Epoch 1/10\n",
      "32/32 [==============================] - 0s 7ms/step - loss: 11.5996 - acc: 0.1113\n",
      "Epoch 2/10\n",
      "32/32 [==============================] - 0s 7ms/step - loss: 11.5918 - acc: 0.1055\n",
      "Epoch 3/10\n",
      "32/32 [==============================] - 0s 7ms/step - loss: 11.5859 - acc: 0.1104\n",
      "Epoch 4/10\n",
      "32/32 [==============================] - 0s 6ms/step - loss: 11.5818 - acc: 0.1338\n",
      "Epoch 5/10\n",
      "32/32 [==============================] - 0s 6ms/step - loss: 11.5789 - acc: 0.1289\n",
      "Epoch 6/10\n",
      "32/32 [==============================] - 0s 6ms/step - loss: 11.5765 - acc: 0.1191\n",
      "Epoch 7/10\n",
      "32/32 [==============================] - 0s 6ms/step - loss: 11.5749 - acc: 0.1133\n",
      "Epoch 8/10\n",
      "32/32 [==============================] - 0s 6ms/step - loss: 11.5730 - acc: 0.1172\n",
      "Epoch 9/10\n",
      "32/32 [==============================] - 0s 6ms/step - loss: 11.5716 - acc: 0.1250\n",
      "Epoch 10/10\n",
      "32/32 [==============================] - 0s 6ms/step - loss: 11.5703 - acc: 0.1309\n"
     ]
    }
   ],
   "source": [
    "history = model.fit(data, labels, epochs=10, batch_size=32)"
   ]
  },
  {
   "cell_type": "code",
   "execution_count": 13,
   "metadata": {},
   "outputs": [
    {
     "data": {
      "text/plain": [
       "<tensorflow.python.keras.callbacks.History at 0x7fa66808f128>"
      ]
     },
     "execution_count": 13,
     "metadata": {},
     "output_type": "execute_result"
    }
   ],
   "source": [
    "history"
   ]
  },
  {
   "cell_type": "code",
   "execution_count": null,
   "metadata": {},
   "outputs": [],
   "source": []
  },
  {
   "cell_type": "markdown",
   "metadata": {},
   "source": [
    "#### validation data"
   ]
  },
  {
   "cell_type": "code",
   "execution_count": 8,
   "metadata": {},
   "outputs": [
    {
     "name": "stdout",
     "output_type": "stream",
     "text": [
      "Epoch 1/10\n",
      "32/32 [==============================] - 0s 9ms/step - loss: 11.4685 - acc: 0.1592 - val_loss: 11.5271 - val_acc: 0.1500\n",
      "Epoch 2/10\n",
      "32/32 [==============================] - 0s 8ms/step - loss: 11.4652 - acc: 0.1572 - val_loss: 11.5285 - val_acc: 0.1400\n",
      "Epoch 3/10\n",
      "32/32 [==============================] - 0s 8ms/step - loss: 11.4591 - acc: 0.1611 - val_loss: 11.5291 - val_acc: 0.1900\n",
      "Epoch 4/10\n",
      "32/32 [==============================] - 0s 7ms/step - loss: 11.4550 - acc: 0.1777 - val_loss: 11.5296 - val_acc: 0.1900\n",
      "Epoch 5/10\n",
      "32/32 [==============================] - 0s 7ms/step - loss: 11.4497 - acc: 0.1816 - val_loss: 11.5386 - val_acc: 0.1300\n",
      "Epoch 6/10\n",
      "32/32 [==============================] - 0s 7ms/step - loss: 11.4452 - acc: 0.1797 - val_loss: 11.5384 - val_acc: 0.1500\n",
      "Epoch 7/10\n",
      "32/32 [==============================] - 0s 8ms/step - loss: 11.4401 - acc: 0.1787 - val_loss: 11.5428 - val_acc: 0.1300\n",
      "Epoch 8/10\n",
      "32/32 [==============================] - 0s 7ms/step - loss: 11.4344 - acc: 0.1924 - val_loss: 11.5450 - val_acc: 0.1500\n",
      "Epoch 9/10\n",
      "32/32 [==============================] - 0s 8ms/step - loss: 11.4311 - acc: 0.1855 - val_loss: 11.5465 - val_acc: 0.1200\n",
      "Epoch 10/10\n",
      "32/32 [==============================] - 0s 7ms/step - loss: 11.4247 - acc: 0.2109 - val_loss: 11.5422 - val_acc: 0.1200\n"
     ]
    },
    {
     "data": {
      "text/plain": [
       "<tensorflow.python.keras.callbacks.History at 0x7fa66808f518>"
      ]
     },
     "execution_count": 8,
     "metadata": {},
     "output_type": "execute_result"
    }
   ],
   "source": [
    "val_data = np.random.random((100, 32))\n",
    "val_labels = np.random.random((100, 10))\n",
    "\n",
    "model.fit(data, labels, epochs=10, batch_size=32,\n",
    "          validation_data=(val_data, val_labels))"
   ]
  },
  {
   "cell_type": "markdown",
   "metadata": {},
   "source": [
    "### Input using `tf.data`"
   ]
  },
  {
   "cell_type": "code",
   "execution_count": 9,
   "metadata": {},
   "outputs": [
    {
     "name": "stdout",
     "output_type": "stream",
     "text": [
      "Epoch 1/10\n",
      "31/31 [==============================] - 0s 6ms/step - loss: 11.4979 - acc: 0.2067\n",
      "Epoch 2/10\n",
      "31/31 [==============================] - 0s 12ms/step - loss: 11.4999 - acc: 0.2097\n",
      "Epoch 3/10\n",
      "31/31 [==============================] - 0s 6ms/step - loss: 11.4546 - acc: 0.2137\n",
      "Epoch 4/10\n",
      "31/31 [==============================] - 0s 6ms/step - loss: 11.4543 - acc: 0.2198\n",
      "Epoch 5/10\n",
      "31/31 [==============================] - 0s 13ms/step - loss: 11.4726 - acc: 0.2198\n",
      "Epoch 6/10\n",
      "31/31 [==============================] - 0s 7ms/step - loss: 11.4335 - acc: 0.2238\n",
      "Epoch 7/10\n",
      "31/31 [==============================] - 0s 6ms/step - loss: 11.4306 - acc: 0.2349\n",
      "Epoch 8/10\n",
      "31/31 [==============================] - 0s 6ms/step - loss: 11.4424 - acc: 0.2339\n",
      "Epoch 9/10\n",
      "31/31 [==============================] - 0s 10ms/step - loss: 11.4228 - acc: 0.2409\n",
      "Epoch 10/10\n",
      "31/31 [==============================] - 0s 9ms/step - loss: 11.3928 - acc: 0.2369\n"
     ]
    },
    {
     "data": {
      "text/plain": [
       "<tensorflow.python.keras.callbacks.History at 0x1221e9438>"
      ]
     },
     "execution_count": 9,
     "metadata": {},
     "output_type": "execute_result"
    }
   ],
   "source": [
    "# Instantiates a toy dataset instance:\n",
    "dataset = tf.data.Dataset.from_tensor_slices((data, labels))\n",
    "dataset = dataset.batch(32)\n",
    "dataset = dataset.repeat()\n",
    "\n",
    "# Don't forget to specify `steps_per_epoch` when calling `fit` on a dataset.\n",
    "model.fit(dataset, epochs=10, steps_per_epoch=31)"
   ]
  },
  {
   "cell_type": "markdown",
   "metadata": {},
   "source": [
    "#### validation data"
   ]
  },
  {
   "cell_type": "code",
   "execution_count": 10,
   "metadata": {},
   "outputs": [
    {
     "name": "stdout",
     "output_type": "stream",
     "text": [
      "Epoch 1/10\n",
      "30/30 [==============================] - 0s 8ms/step - loss: 11.4892 - acc: 0.2385 - val_loss: 11.7944 - val_acc: 0.0938\n",
      "Epoch 2/10\n",
      "30/30 [==============================] - 0s 6ms/step - loss: 11.4089 - acc: 0.2354 - val_loss: 11.6798 - val_acc: 0.1176\n",
      "Epoch 3/10\n",
      "30/30 [==============================] - 0s 6ms/step - loss: 11.4229 - acc: 0.2448 - val_loss: 11.7516 - val_acc: 0.1176\n",
      "Epoch 4/10\n",
      "30/30 [==============================] - 0s 13ms/step - loss: 11.4040 - acc: 0.2479 - val_loss: 11.9923 - val_acc: 0.0441\n",
      "Epoch 5/10\n",
      "30/30 [==============================] - 0s 6ms/step - loss: 11.3612 - acc: 0.2604 - val_loss: 11.8266 - val_acc: 0.1250\n",
      "Epoch 6/10\n",
      "30/30 [==============================] - 0s 6ms/step - loss: 11.3461 - acc: 0.2562 - val_loss: 11.7072 - val_acc: 0.1176\n",
      "Epoch 7/10\n",
      "30/30 [==============================] - 0s 7ms/step - loss: 11.3505 - acc: 0.2656 - val_loss: 11.7711 - val_acc: 0.1471\n",
      "Epoch 8/10\n",
      "30/30 [==============================] - 0s 12ms/step - loss: 11.3676 - acc: 0.2656 - val_loss: 11.9986 - val_acc: 0.0588\n",
      "Epoch 9/10\n",
      "30/30 [==============================] - 0s 14ms/step - loss: 11.3915 - acc: 0.2719 - val_loss: 11.8268 - val_acc: 0.0938\n",
      "Epoch 10/10\n",
      "30/30 [==============================] - 0s 8ms/step - loss: 11.3703 - acc: 0.2708 - val_loss: 11.7064 - val_acc: 0.0735\n"
     ]
    },
    {
     "data": {
      "text/plain": [
       "<tensorflow.python.keras.callbacks.History at 0x1221f94a8>"
      ]
     },
     "execution_count": 10,
     "metadata": {},
     "output_type": "execute_result"
    }
   ],
   "source": [
    "dataset = tf.data.Dataset.from_tensor_slices((data, labels))\n",
    "dataset = dataset.batch(32).repeat()\n",
    "\n",
    "val_dataset = tf.data.Dataset.from_tensor_slices((val_data, val_labels))\n",
    "val_dataset = val_dataset.batch(32).repeat()\n",
    "\n",
    "model.fit(dataset, epochs=10, steps_per_epoch=30,\n",
    "          validation_data=val_dataset,\n",
    "          validation_steps=3)"
   ]
  },
  {
   "cell_type": "markdown",
   "metadata": {},
   "source": [
    "### Evaluate and predict"
   ]
  },
  {
   "cell_type": "code",
   "execution_count": 11,
   "metadata": {},
   "outputs": [
    {
     "name": "stdout",
     "output_type": "stream",
     "text": [
      "32/32 [==============================] - 0s 2ms/step\n",
      "30/30 [==============================] - 0s 2ms/step\n"
     ]
    },
    {
     "data": {
      "text/plain": [
       "[11.438876978556316, 0.28541666666666665]"
      ]
     },
     "execution_count": 11,
     "metadata": {},
     "output_type": "execute_result"
    }
   ],
   "source": [
    "data = np.random.random((1000, 32))\n",
    "labels = np.random.random((1000, 10))\n",
    "\n",
    "model.evaluate(data, labels, batch_size=32)\n",
    "\n",
    "model.evaluate(dataset, steps=30)"
   ]
  },
  {
   "cell_type": "markdown",
   "metadata": {},
   "source": [
    "## Build advanced model\n",
    "\n",
    "### Functional API\n",
    "\n",
    "* `tf.keras.Sequential` cannot represent arbitrary models.\n",
    "  * Multi-input models\n",
    "  * Multi-output models\n",
    "  * Models with shared layers (the same layer called several times)\n",
    "  * Models with non-sequential data flows (e.g. residual connections)\n",
    "  \n",
    "#### Building a model with the functional API works like this:\n",
    "\n",
    "1. A layer instance is callable and returns a tensor.\n",
    "2. Input tensors and output tensors are used to define a tf.keras.Model instance.\n",
    "3. This model is trained just like the Sequential model."
   ]
  },
  {
   "cell_type": "code",
   "execution_count": 12,
   "metadata": {},
   "outputs": [],
   "source": [
    "inputs = tf.keras.Input(shape=(32,))  # Returns a placeholder tensor\n",
    "\n",
    "# A layer instance is callable on a tensor, and returns a tensor.\n",
    "x = layers.Dense(64, activation='relu')(inputs)\n",
    "x = layers.Dense(64, activation='relu')(x)\n",
    "predictions = layers.Dense(10, activation='softmax')(x)"
   ]
  },
  {
   "cell_type": "code",
   "execution_count": 13,
   "metadata": {},
   "outputs": [
    {
     "name": "stdout",
     "output_type": "stream",
     "text": [
      "Epoch 1/5\n",
      "32/32 [==============================] - 0s 7ms/step - loss: 11.8763 - acc: 0.1025\n",
      "Epoch 2/5\n",
      "32/32 [==============================] - 0s 6ms/step - loss: 11.6580 - acc: 0.0928\n",
      "Epoch 3/5\n",
      "32/32 [==============================] - 0s 5ms/step - loss: 11.6243 - acc: 0.0947\n",
      "Epoch 4/5\n",
      "32/32 [==============================] - 0s 10ms/step - loss: 11.6130 - acc: 0.1094\n",
      "Epoch 5/5\n",
      "32/32 [==============================] - 0s 6ms/step - loss: 11.6025 - acc: 0.1045\n"
     ]
    },
    {
     "data": {
      "text/plain": [
       "<tensorflow.python.keras.callbacks.History at 0x12221ca20>"
      ]
     },
     "execution_count": 13,
     "metadata": {},
     "output_type": "execute_result"
    }
   ],
   "source": [
    "model = tf.keras.Model(inputs=inputs, outputs=predictions)\n",
    "\n",
    "# The compile step specifies the training configuration.\n",
    "model.compile(optimizer=tf.train.RMSPropOptimizer(0.001),\n",
    "              loss='categorical_crossentropy',\n",
    "              metrics=['accuracy'])\n",
    "\n",
    "# Trains for 5 epochs\n",
    "model.fit(data, labels, batch_size=32, epochs=5)"
   ]
  },
  {
   "cell_type": "markdown",
   "metadata": {},
   "source": [
    "### Build a fully-customizable model\n",
    "\n",
    "* Subclassing `tf.keras.Model`\n",
    "* define `__init__`\n",
    "  * Create layers and set them as attributes of the class instance\n",
    "* define `call`\n",
    "  * Define the forward pass\n",
    "  \n",
    "Simple class form\n",
    "```python\n",
    "class MyModel(tf.keras.Model):\n",
    "  def __init__(self):\n",
    "    super(MyModel, self).__init__(name='my_model')\n",
    "    # Define your layers here.\n",
    "    pass\n",
    "\n",
    "  def call(self, inputs):\n",
    "    # Define your forward pass here,\n",
    "    # using layers you previously defined (in `__init__`).\n",
    "    pass```"
   ]
  },
  {
   "cell_type": "code",
   "execution_count": 9,
   "metadata": {},
   "outputs": [],
   "source": [
    "class MyModel(tf.keras.Model):\n",
    "\n",
    "  def __init__(self, num_classes=10):\n",
    "    super(MyModel, self).__init__(name='my_model')\n",
    "    self.num_classes = num_classes\n",
    "    # Define your layers here.\n",
    "    self.dense_1 = layers.Dense(32, activation='relu')\n",
    "    self.dense_2 = layers.Dense(32, activation='relu')\n",
    "    self.dense_3 = layers.Dense(num_classes, activation='sigmoid')\n",
    "\n",
    "  def call(self, inputs):\n",
    "    # Define your forward pass here,\n",
    "    # using layers you previously defined (in `__init__`).\n",
    "    x1 = self.dense_1(inputs)\n",
    "    x2 = self.dense_2(inputs)\n",
    "    x = x1 + x2\n",
    "    return self.dense_3(x)\n",
    "\n",
    "#   def compute_output_shape(self, input_shape):\n",
    "#     # You need to override this function if you want to use the subclassed model\n",
    "#     # as part of a functional-style model.\n",
    "#     # Otherwise, this method is optional.\n",
    "#     shape = tf.TensorShape(input_shape).as_list()\n",
    "#     shape[-1] = self.num_classes\n",
    "#     return tf.TensorShape(shape)"
   ]
  },
  {
   "cell_type": "code",
   "execution_count": 10,
   "metadata": {},
   "outputs": [
    {
     "name": "stdout",
     "output_type": "stream",
     "text": [
      "Epoch 1/5\n",
      "32/32 [==============================] - 0s 6ms/step - loss: 11.7394 - acc: 0.0908\n",
      "Epoch 2/5\n",
      "32/32 [==============================] - 0s 6ms/step - loss: 11.6427 - acc: 0.0928\n",
      "Epoch 3/5\n",
      "32/32 [==============================] - 0s 6ms/step - loss: 11.5746 - acc: 0.1055\n",
      "Epoch 4/5\n",
      "32/32 [==============================] - 0s 6ms/step - loss: 11.5498 - acc: 0.0938\n",
      "Epoch 5/5\n",
      "32/32 [==============================] - 0s 6ms/step - loss: 11.5337 - acc: 0.1045\n"
     ]
    },
    {
     "data": {
      "text/plain": [
       "<tensorflow.python.keras.callbacks.History at 0x7fa66808f6d8>"
      ]
     },
     "execution_count": 10,
     "metadata": {},
     "output_type": "execute_result"
    }
   ],
   "source": [
    "model = MyModel(num_classes=10)\n",
    "\n",
    "# The compile step specifies the training configuration.\n",
    "model.compile(optimizer=tf.train.RMSPropOptimizer(0.001),\n",
    "              loss='categorical_crossentropy',\n",
    "              metrics=['accuracy'])\n",
    "\n",
    "# Trains for 5 epochs.\n",
    "model.fit(data, labels, batch_size=32, epochs=5)"
   ]
  },
  {
   "cell_type": "markdown",
   "metadata": {},
   "source": [
    "### Custom layers\n",
    "\n",
    "Create a custom layer by subclassing tf.keras.layers.Layer and implementing the following methods:\n",
    "\n",
    "* `build`: Create the weights of the layer. Add weights with the `add_weight` method.\n",
    "* `call`: Define the forward pass.\n",
    "* `compute_output_shape`: Specify how to compute the output shape of the layer given the input shape.\n",
    "* Optionally, a layer can be serialized by implementing the `get_config` method and the `from_config` class method."
   ]
  },
  {
   "cell_type": "code",
   "execution_count": 16,
   "metadata": {},
   "outputs": [],
   "source": [
    "class MyLayer(layers.Layer):\n",
    "\n",
    "  def __init__(self, output_dim, **kwargs):\n",
    "    self.output_dim = output_dim\n",
    "    super(MyLayer, self).__init__(**kwargs)\n",
    "\n",
    "  def build(self, input_shape):\n",
    "    shape = tf.TensorShape((input_shape[1], self.output_dim))\n",
    "    # Create a trainable weight variable for this layer.\n",
    "    self.kernel = self.add_weight(name='kernel',\n",
    "                                  shape=shape,\n",
    "                                  initializer='uniform',\n",
    "                                  trainable=True)\n",
    "    # Be sure to call this at the end\n",
    "    super(MyLayer, self).build(input_shape)\n",
    "\n",
    "  def call(self, inputs):\n",
    "    return tf.matmul(inputs, self.kernel)\n",
    "\n",
    "  def compute_output_shape(self, input_shape):\n",
    "    shape = tf.TensorShape(input_shape).as_list()\n",
    "    shape[-1] = self.output_dim\n",
    "    return tf.TensorShape(shape)\n",
    "\n",
    "  def get_config(self):\n",
    "    base_config = super(MyLayer, self).get_config()\n",
    "    base_config['output_dim'] = self.output_dim\n",
    "    return base_config\n",
    "\n",
    "  @classmethod\n",
    "  def from_config(cls, config):\n",
    "    return cls(**config)"
   ]
  },
  {
   "cell_type": "code",
   "execution_count": 17,
   "metadata": {},
   "outputs": [
    {
     "name": "stdout",
     "output_type": "stream",
     "text": [
      "Epoch 1/5\n",
      "32/32 [==============================] - 0s 8ms/step - loss: 11.6134 - acc: 0.0928\n",
      "Epoch 2/5\n",
      "32/32 [==============================] - 0s 5ms/step - loss: 11.6073 - acc: 0.1074\n",
      "Epoch 3/5\n",
      "32/32 [==============================] - 0s 9ms/step - loss: 11.6053 - acc: 0.0840\n",
      "Epoch 4/5\n",
      "32/32 [==============================] - 0s 8ms/step - loss: 11.6034 - acc: 0.1035\n",
      "Epoch 5/5\n",
      "32/32 [==============================] - 0s 5ms/step - loss: 11.6006 - acc: 0.1094\n"
     ]
    },
    {
     "data": {
      "text/plain": [
       "<tensorflow.python.keras.callbacks.History at 0x1222417f0>"
      ]
     },
     "execution_count": 17,
     "metadata": {},
     "output_type": "execute_result"
    }
   ],
   "source": [
    "model = tf.keras.Sequential([\n",
    "    MyLayer(10),\n",
    "    layers.Activation('softmax')])\n",
    "\n",
    "# The compile step specifies the training configuration\n",
    "model.compile(optimizer=tf.train.RMSPropOptimizer(0.001),\n",
    "              loss='categorical_crossentropy',\n",
    "              metrics=['accuracy'])\n",
    "\n",
    "# Trains for 5 epochs.\n",
    "model.fit(data, labels, batch_size=32, epochs=5)"
   ]
  },
  {
   "cell_type": "markdown",
   "metadata": {},
   "source": [
    "## Callbacks\n",
    "\n",
    "A callback is an object passed to a model to customize and extend its behavior during training. You can write your own custom callback, or use the built-in tf.keras.callbacks that include:\n",
    "\n",
    "* `tf.keras.callbacks.ModelCheckpoint`: Save checkpoints of your model at regular intervals.\n",
    "* `tf.keras.callbacks.LearningRateScheduler`: Dynamically change the learning rate.\n",
    "* `tf.keras.callbacks.EarlyStopping`: Interrupt training when validation performance has stopped improving.\n",
    "* `tf.keras.callbacks.TensorBoard`: Monitor the model's behavior using TensorBoard."
   ]
  },
  {
   "cell_type": "code",
   "execution_count": 14,
   "metadata": {},
   "outputs": [
    {
     "name": "stdout",
     "output_type": "stream",
     "text": [
      "Epoch 1/5\n",
      "32/32 [==============================] - 0s 7ms/step - loss: 11.5685 - acc: 0.1211 - val_loss: 11.5305 - val_acc: 0.0900\n",
      "Epoch 2/5\n",
      "32/32 [==============================] - 0s 6ms/step - loss: 11.5674 - acc: 0.1240 - val_loss: 11.5295 - val_acc: 0.1200\n",
      "Epoch 3/5\n",
      "32/32 [==============================] - 0s 6ms/step - loss: 11.5659 - acc: 0.1221 - val_loss: 11.5319 - val_acc: 0.1400\n",
      "Epoch 4/5\n",
      "32/32 [==============================] - 0s 6ms/step - loss: 11.5650 - acc: 0.1250 - val_loss: 11.5312 - val_acc: 0.1400\n"
     ]
    },
    {
     "data": {
      "text/plain": [
       "<tensorflow.python.keras.callbacks.History at 0x7fa66809da20>"
      ]
     },
     "execution_count": 14,
     "metadata": {},
     "output_type": "execute_result"
    }
   ],
   "source": [
    "callbacks = [\n",
    "  # Interrupt training if `val_loss` stops improving for over 2 epochs\n",
    "  tf.keras.callbacks.EarlyStopping(patience=2, monitor='val_loss'),\n",
    "  # Write TensorBoard logs to `./logs` directory\n",
    "  tf.keras.callbacks.TensorBoard(log_dir='./logs')\n",
    "]\n",
    "model.fit(data, labels, batch_size=32, epochs=5, callbacks=callbacks,\n",
    "          validation_data=(val_data, val_labels))"
   ]
  },
  {
   "cell_type": "markdown",
   "metadata": {},
   "source": [
    "## Save and restore\n",
    "\n",
    "### Weights only\n",
    "\n",
    "* Save and load the weights of a model using `tf.keras.Model.save_weights`:"
   ]
  },
  {
   "cell_type": "code",
   "execution_count": 19,
   "metadata": {},
   "outputs": [],
   "source": [
    "model = tf.keras.Sequential([\n",
    "layers.Dense(64, activation='relu'),\n",
    "layers.Dense(10, activation='softmax')])\n",
    "\n",
    "model.compile(optimizer=tf.train.AdamOptimizer(0.001),\n",
    "              loss='categorical_crossentropy',\n",
    "              metrics=['accuracy'])"
   ]
  },
  {
   "cell_type": "code",
   "execution_count": 20,
   "metadata": {},
   "outputs": [
    {
     "data": {
      "text/plain": [
       "<tensorflow.python.training.checkpointable.util.CheckpointLoadStatus at 0x12223a7f0>"
      ]
     },
     "execution_count": 20,
     "metadata": {},
     "output_type": "execute_result"
    }
   ],
   "source": [
    "# Save weights to a TensorFlow Checkpoint file\n",
    "model.save_weights('./weights/my_model')\n",
    "\n",
    "# Restore the model's state,\n",
    "# this requires a model with the same architecture.\n",
    "model.load_weights('./weights/my_model')"
   ]
  },
  {
   "cell_type": "markdown",
   "metadata": {},
   "source": [
    "### Configuration only"
   ]
  },
  {
   "cell_type": "code",
   "execution_count": 21,
   "metadata": {},
   "outputs": [
    {
     "data": {
      "text/plain": [
       "'{\"class_name\": \"Sequential\", \"config\": {\"name\": \"sequential_3\", \"layers\": [{\"class_name\": \"Dense\", \"config\": {\"name\": \"dense_11\", \"trainable\": true, \"dtype\": null, \"units\": 64, \"activation\": \"relu\", \"use_bias\": true, \"kernel_initializer\": {\"class_name\": \"GlorotUniform\", \"config\": {\"seed\": null, \"dtype\": \"float32\"}}, \"bias_initializer\": {\"class_name\": \"Zeros\", \"config\": {\"dtype\": \"float32\"}}, \"kernel_regularizer\": null, \"bias_regularizer\": null, \"activity_regularizer\": null, \"kernel_constraint\": null, \"bias_constraint\": null}}, {\"class_name\": \"Dense\", \"config\": {\"name\": \"dense_12\", \"trainable\": true, \"dtype\": null, \"units\": 10, \"activation\": \"softmax\", \"use_bias\": true, \"kernel_initializer\": {\"class_name\": \"GlorotUniform\", \"config\": {\"seed\": null, \"dtype\": \"float32\"}}, \"bias_initializer\": {\"class_name\": \"Zeros\", \"config\": {\"dtype\": \"float32\"}}, \"kernel_regularizer\": null, \"bias_regularizer\": null, \"activity_regularizer\": null, \"kernel_constraint\": null, \"bias_constraint\": null}}]}, \"keras_version\": \"2.1.6-tf\", \"backend\": \"tensorflow\"}'"
      ]
     },
     "execution_count": 21,
     "metadata": {},
     "output_type": "execute_result"
    }
   ],
   "source": [
    "# Serialize a model to JSON format\n",
    "json_string = model.to_json()\n",
    "json_string"
   ]
  },
  {
   "cell_type": "code",
   "execution_count": 22,
   "metadata": {},
   "outputs": [
    {
     "name": "stdout",
     "output_type": "stream",
     "text": [
      "{'backend': 'tensorflow',\n",
      " 'class_name': 'Sequential',\n",
      " 'config': {'layers': [{'class_name': 'Dense',\n",
      "                        'config': {'activation': 'relu',\n",
      "                                   'activity_regularizer': None,\n",
      "                                   'bias_constraint': None,\n",
      "                                   'bias_initializer': {'class_name': 'Zeros',\n",
      "                                                        'config': {'dtype': 'float32'}},\n",
      "                                   'bias_regularizer': None,\n",
      "                                   'dtype': None,\n",
      "                                   'kernel_constraint': None,\n",
      "                                   'kernel_initializer': {'class_name': 'GlorotUniform',\n",
      "                                                          'config': {'dtype': 'float32',\n",
      "                                                                     'seed': None}},\n",
      "                                   'kernel_regularizer': None,\n",
      "                                   'name': 'dense_11',\n",
      "                                   'trainable': True,\n",
      "                                   'units': 64,\n",
      "                                   'use_bias': True}},\n",
      "                       {'class_name': 'Dense',\n",
      "                        'config': {'activation': 'softmax',\n",
      "                                   'activity_regularizer': None,\n",
      "                                   'bias_constraint': None,\n",
      "                                   'bias_initializer': {'class_name': 'Zeros',\n",
      "                                                        'config': {'dtype': 'float32'}},\n",
      "                                   'bias_regularizer': None,\n",
      "                                   'dtype': None,\n",
      "                                   'kernel_constraint': None,\n",
      "                                   'kernel_initializer': {'class_name': 'GlorotUniform',\n",
      "                                                          'config': {'dtype': 'float32',\n",
      "                                                                     'seed': None}},\n",
      "                                   'kernel_regularizer': None,\n",
      "                                   'name': 'dense_12',\n",
      "                                   'trainable': True,\n",
      "                                   'units': 10,\n",
      "                                   'use_bias': True}}],\n",
      "            'name': 'sequential_3'},\n",
      " 'keras_version': '2.1.6-tf'}\n"
     ]
    }
   ],
   "source": [
    "import json\n",
    "import pprint\n",
    "pprint.pprint(json.loads(json_string))"
   ]
  },
  {
   "cell_type": "markdown",
   "metadata": {},
   "source": [
    "### Entire model"
   ]
  },
  {
   "cell_type": "code",
   "execution_count": 23,
   "metadata": {},
   "outputs": [],
   "source": [
    "# Create a trivial model\n",
    "#model = tf.keras.Sequential([\n",
    "#  layers.Dense(10, activation='relu', input_shape=(32,)),\n",
    "#  layers.Dense(10, activation='softmax')\n",
    "#])\n",
    "#model.compile(optimizer='rmsprop',\n",
    "#              loss='categorical_crossentropy',\n",
    "#              metrics=['accuracy'])\n",
    "#model.fit(data, labels, batch_size=32, epochs=5)\n",
    "\n",
    "# Save entire model to a HDF5 file\n",
    "#model.save('my_model')\n",
    "\n",
    "# Recreate the exact same model, including weights and optimizer.\n",
    "#model = tf.keras.models.load_model('my_model')"
   ]
  }
 ],
 "metadata": {
  "kernelspec": {
   "display_name": "Python 3",
   "language": "python",
   "name": "python3"
  },
  "language_info": {
   "codemirror_mode": {
    "name": "ipython",
    "version": 3
   },
   "file_extension": ".py",
   "mimetype": "text/x-python",
   "name": "python",
   "nbconvert_exporter": "python",
   "pygments_lexer": "ipython3",
   "version": "3.6.5"
  }
 },
 "nbformat": 4,
 "nbformat_minor": 2
}
